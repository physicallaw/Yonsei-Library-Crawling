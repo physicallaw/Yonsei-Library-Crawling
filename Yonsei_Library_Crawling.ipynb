{
 "cells": [
  {
   "cell_type": "markdown",
   "id": "715d4813",
   "metadata": {},
   "source": [
    "# 연세대학교 도서관 장서 크롤링"
   ]
  },
  {
   "cell_type": "markdown",
   "id": "26b9a089",
   "metadata": {},
   "source": [
    "## 사용방법\n",
    "1. https://library.yonsei.ac.kr/ 에서 크롤링을 시작할 책을 검색한다.\n",
    "2. 검색한 책의 상세페이지의 주소에서 CAT 이후의 12자리 숫자를 복사하여 `startnum`에 넣는다.\n",
    "3. 크롤링을 종료할 책의 청구기호를 `endnum`에 넣는다.\n",
    "4. 크롤링 결과를 저장할 파일 이름을 `filename`에 넣는다."
   ]
  },
  {
   "cell_type": "code",
   "execution_count": 1,
   "id": "4e1ca6dc",
   "metadata": {},
   "outputs": [],
   "source": [
    "import pandas as pd\n",
    "import requests"
   ]
  },
  {
   "cell_type": "code",
   "execution_count": 2,
   "id": "8a120ca0",
   "metadata": {},
   "outputs": [],
   "source": [
    "startnum = \"000001044905\"\n",
    "endnum = '531'\n",
    "filename = 'test'"
   ]
  },
  {
   "cell_type": "code",
   "execution_count": 3,
   "id": "11b90502",
   "metadata": {},
   "outputs": [
    {
     "name": "stdout",
     "output_type": "stream",
     "text": [
      "531 000a Nonlinear interactions : analytical, computational, and experimental methodsázad történelmétaeparative techniquesassachusetts, U.S.Ambridge, 31 July-1 August 19970-14, 1981niversity, Fukui, Japan, 1993ystalline Materials, held in Mt-Tremblant, Québec, Canada, February 7-9, 2001\r"
     ]
    }
   ],
   "source": [
    "url = f\"https://library.yonsei.ac.kr/search/callNoBrowsing/{startnum}\"\n",
    "params = {'type': 'next'}\n",
    "response = requests.post(url)\n",
    "df = pd.DataFrame(response.json())\n",
    "\n",
    "while df.tail(1)['call_no'].values[0] < endnum:\n",
    "    booknum = df.tail(1)['controlno'].values[0]\n",
    "    url = f\"https://library.yonsei.ac.kr/search/callNoBrowsing/{booknum}\"\n",
    "    response = requests.post(url, params)\n",
    "    tempdf = pd.DataFrame(response.json())\n",
    "    df = pd.concat([df, tempdf])\n",
    "    print(df.tail(1)['call_no'].values[0] + \" \" + df.tail(1)['title'].values[0], end='\\r')\n",
    "\n",
    "print('\\n 크롤링 완료')\n",
    "df.to_csv(f'{filename}.csv')"
   ]
  }
 ],
 "metadata": {
  "kernelspec": {
   "display_name": "Python 3",
   "language": "python",
   "name": "python3"
  },
  "language_info": {
   "codemirror_mode": {
    "name": "ipython",
    "version": 3
   },
   "file_extension": ".py",
   "mimetype": "text/x-python",
   "name": "python",
   "nbconvert_exporter": "python",
   "pygments_lexer": "ipython3",
   "version": "3.8.8"
  }
 },
 "nbformat": 4,
 "nbformat_minor": 5
}
